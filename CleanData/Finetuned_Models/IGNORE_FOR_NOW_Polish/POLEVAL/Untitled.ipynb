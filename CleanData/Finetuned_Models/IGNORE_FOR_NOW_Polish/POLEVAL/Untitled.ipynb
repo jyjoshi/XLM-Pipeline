{
 "cells": [
  {
   "cell_type": "code",
   "execution_count": 5,
   "id": "9a376350-32a5-4744-9aeb-56278e6986ca",
   "metadata": {},
   "outputs": [],
   "source": [
    "with open('training_set_clean_only_tags.txt') as f:\n",
    "    tags = [int(t.strip()) for t in f.readlines()]"
   ]
  },
  {
   "cell_type": "code",
   "execution_count": 6,
   "id": "af47f651-06a4-433a-b0f3-32da65cb0b4c",
   "metadata": {},
   "outputs": [
    {
     "data": {
      "text/plain": [
       "[0, 0, 0, 0, 0]"
      ]
     },
     "execution_count": 6,
     "metadata": {},
     "output_type": "execute_result"
    }
   ],
   "source": [
    "tags[:5]"
   ]
  },
  {
   "cell_type": "code",
   "execution_count": 9,
   "id": "49a37d58-ecc1-416e-9659-bae48f3e2e42",
   "metadata": {},
   "outputs": [],
   "source": [
    "with open('training_set_clean_only_text.txt', encoding = \"ISO-8859-1\") as f:\n",
    "    text = [t.strip() for t in f.readlines()]"
   ]
  },
  {
   "cell_type": "code",
   "execution_count": 12,
   "id": "6d7166d4-f4e6-4776-a01b-a6593f7e5b2c",
   "metadata": {},
   "outputs": [],
   "source": [
    "import pandas as pd"
   ]
  },
  {
   "cell_type": "code",
   "execution_count": 13,
   "id": "723b5d93-6cca-4cc1-a6df-7fc712ebcb1a",
   "metadata": {},
   "outputs": [],
   "source": [
    "df = pd.DataFrame()"
   ]
  },
  {
   "cell_type": "code",
   "execution_count": 14,
   "id": "3eae5ac2-75b8-4a65-9d32-44c2653a5c49",
   "metadata": {},
   "outputs": [],
   "source": [
    "df['Text'] = text\n",
    "df['Label'] = tags"
   ]
  },
  {
   "cell_type": "code",
   "execution_count": 15,
   "id": "d348ed16-b055-4493-8bd9-dce98bc65a16",
   "metadata": {},
   "outputs": [],
   "source": [
    "df.to_csv('data.csv')"
   ]
  },
  {
   "cell_type": "code",
   "execution_count": null,
   "id": "f7aca0f1-71e5-4d77-a58b-ee4067c21daf",
   "metadata": {},
   "outputs": [],
   "source": []
  }
 ],
 "metadata": {
  "kernelspec": {
   "display_name": "Python 3 (ipykernel)",
   "language": "python",
   "name": "python3"
  },
  "language_info": {
   "codemirror_mode": {
    "name": "ipython",
    "version": 3
   },
   "file_extension": ".py",
   "mimetype": "text/x-python",
   "name": "python",
   "nbconvert_exporter": "python",
   "pygments_lexer": "ipython3",
   "version": "3.11.0"
  }
 },
 "nbformat": 4,
 "nbformat_minor": 5
}
