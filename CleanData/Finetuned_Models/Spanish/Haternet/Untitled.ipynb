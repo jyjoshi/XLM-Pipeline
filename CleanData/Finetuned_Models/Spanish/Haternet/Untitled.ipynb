{
 "cells": [
  {
   "cell_type": "code",
   "execution_count": 1,
   "id": "7ef65e3e-518a-4c1f-b692-954c477f246b",
   "metadata": {},
   "outputs": [],
   "source": [
    "import pandas as pd"
   ]
  },
  {
   "cell_type": "code",
   "execution_count": 8,
   "id": "9fcd9792-5fcc-4c02-ae85-df43824fea24",
   "metadata": {},
   "outputs": [
    {
     "name": "stderr",
     "output_type": "stream",
     "text": [
      "C:\\Users\\Me\\AppData\\Local\\Temp\\ipykernel_22680\\3963664707.py:1: ParserWarning: Falling back to the 'python' engine because the 'c' engine does not support regex separators (separators > 1 char and different from '\\s+' are interpreted as regex); you can avoid this warning by specifying engine='python'.\n",
      "  df = pd.read_csv('labeled_corpus_6K.txt', sep=' -,-')\n"
     ]
    }
   ],
   "source": [
    "df = pd.read_csv('labeled_corpus_6K.txt', sep=' -,-')"
   ]
  },
  {
   "cell_type": "code",
   "execution_count": 14,
   "id": "a16529a8-862b-46ec-9f0a-950f1b4222d1",
   "metadata": {},
   "outputs": [
    {
     "data": {
      "text/plain": [
       "Index(['id', ' text', ' label', 'Unnamed: 3', 'Text'], dtype='object')"
      ]
     },
     "execution_count": 14,
     "metadata": {},
     "output_type": "execute_result"
    }
   ],
   "source": [
    "df.columns"
   ]
  },
  {
   "cell_type": "code",
   "execution_count": 11,
   "id": "75a1462f-f484-42a2-bdc6-2e0a9677081e",
   "metadata": {},
   "outputs": [],
   "source": [
    "df['Text'] = [s.strip() for s in df[' text']]"
   ]
  },
  {
   "cell_type": "code",
   "execution_count": 17,
   "id": "34d90884-2413-4fdf-9676-680430a47a28",
   "metadata": {},
   "outputs": [],
   "source": [
    "df['Label'] = [s for s in df[' label']]"
   ]
  },
  {
   "cell_type": "code",
   "execution_count": 19,
   "id": "16df49a0-67c3-4a80-a0b6-052ea9e4d18c",
   "metadata": {},
   "outputs": [],
   "source": [
    "df = df[['Text','Label']]"
   ]
  },
  {
   "cell_type": "code",
   "execution_count": 20,
   "id": "b5064d3a-1416-438c-8c8c-3d70d4887de8",
   "metadata": {},
   "outputs": [],
   "source": [
    "df.to_csv('data.csv')"
   ]
  },
  {
   "cell_type": "code",
   "execution_count": null,
   "id": "1e713088-2f65-4fd6-b15e-12d54bbb2637",
   "metadata": {},
   "outputs": [],
   "source": []
  }
 ],
 "metadata": {
  "kernelspec": {
   "display_name": "Python 3 (ipykernel)",
   "language": "python",
   "name": "python3"
  },
  "language_info": {
   "codemirror_mode": {
    "name": "ipython",
    "version": 3
   },
   "file_extension": ".py",
   "mimetype": "text/x-python",
   "name": "python",
   "nbconvert_exporter": "python",
   "pygments_lexer": "ipython3",
   "version": "3.11.0"
  }
 },
 "nbformat": 4,
 "nbformat_minor": 5
}
