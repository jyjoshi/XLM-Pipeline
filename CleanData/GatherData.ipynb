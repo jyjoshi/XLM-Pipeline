{
 "cells": [
  {
   "cell_type": "code",
   "execution_count": 1,
   "id": "dafc7be4",
   "metadata": {},
   "outputs": [],
   "source": [
    "import pandas as pd\n",
    "import os\n",
    "from collections import Counter\n",
    "import re"
   ]
  },
  {
   "cell_type": "code",
   "execution_count": 2,
   "id": "1eb2d2af",
   "metadata": {},
   "outputs": [
    {
     "name": "stdout",
     "output_type": "stream",
     "text": [
      "Arabic   4166/9199 are hateful (45.29%)\n",
      "English  24403/33783 are hateful (72.23%)\n",
      "French   3193/4014 are hateful (79.55%)\n",
      "Hindi    4138/9384 are hateful (44.10%)\n",
      "Italian  622/1263 are hateful (49.25%)\n",
      "Portugese 1788/5670 are hateful (31.53%)\n",
      "Spanish  3424/10499 are hateful (32.61%)\n"
     ]
    }
   ],
   "source": [
    "# Count total data\n",
    "c = Counter()\n",
    "hate_c = Counter()\n",
    "non_hate_c = Counter()\n",
    "for root, dirs, files in os.walk(\"Finetuned_Models\", topdown=False):\n",
    "    for name in files:\n",
    "        if 'IGNORE_FOR_NOW' in root:\n",
    "            continue\n",
    "        \n",
    "        if name != 'data.csv':\n",
    "            continue\n",
    "            \n",
    "        path = os.path.join(root, name)\n",
    "        language = root.split('\\\\')[1]\n",
    "        df = pd.read_csv(path)\n",
    "        c[language] += len(df)\n",
    "        hate_c[language] += len(df[df['Label'] == 1])\n",
    "        non_hate_c[language] += len(df[df['Label'] == 0])\n",
    "    \n",
    "for key in c:\n",
    "    print(f\"{key:8s} {hate_c[key]}/{c[key]} are hateful ({(hate_c[key]/c[key])*100:0.2f}%)\")\n",
    "# c, hate_c, non_hate_c"
   ]
  },
  {
   "cell_type": "markdown",
   "id": "d76a3f32",
   "metadata": {},
   "source": [
    "### Concatenate Data"
   ]
  },
  {
   "cell_type": "code",
   "execution_count": 3,
   "id": "0be8f252",
   "metadata": {},
   "outputs": [],
   "source": [
    "# Count total data\n",
    "all_data = pd.DataFrame(columns=['Text', 'Label', 'Language'])\n",
    "for root, dirs, files in os.walk(\"Finetuned_Models\", topdown=False):\n",
    "    for name in files:\n",
    "        if 'IGNORE_FOR_NOW' in root:\n",
    "            continue\n",
    "        \n",
    "        if name != 'data.csv':\n",
    "            continue\n",
    "            \n",
    "        path = os.path.join(root, name)\n",
    "        language = root.split('\\\\')[1]\n",
    "        df = pd.read_csv(path)[['Text', 'Label']]\n",
    "        df['Language'] = [language for i in range(len(df))]\n",
    "        all_data = pd.concat([df, all_data])\n",
    "        \n",
    "    \n",
    "assert len(all_data) == sum(c.values())"
   ]
  },
  {
   "cell_type": "code",
   "execution_count": 4,
   "id": "90282c4e",
   "metadata": {},
   "outputs": [],
   "source": [
    "all_data.to_csv('all_data.csv', index=False)"
   ]
  },
  {
   "cell_type": "markdown",
   "id": "4f39c28e",
   "metadata": {},
   "source": [
    "### Clean Data"
   ]
  },
  {
   "cell_type": "code",
   "execution_count": 5,
   "id": "29987760",
   "metadata": {},
   "outputs": [],
   "source": [
    "def clean_text(text):\n",
    "    text = re.sub(r\"#(\\w+)\", \"\", text)\n",
    "    text = re.sub(r\"@(\\w+)\", \"\", text)\n",
    "    text = re.sub('http\\S+', \"\", text)\n",
    "    return text"
   ]
  },
  {
   "cell_type": "code",
   "execution_count": 6,
   "id": "aa5a141a",
   "metadata": {},
   "outputs": [],
   "source": [
    "all_data['Text'] = [clean_text(t) for t in all_data['Text']]\n",
    "\n",
    "all_data = all_data[all_data['Text'] != ''].dropna()"
   ]
  },
  {
   "cell_type": "code",
   "execution_count": 7,
   "id": "27e58f90",
   "metadata": {},
   "outputs": [],
   "source": [
    "all_data.to_csv('all_data_clean.csv', index=False)"
   ]
  },
  {
   "cell_type": "markdown",
   "id": "19202161",
   "metadata": {
    "tags": []
   },
   "source": [
    "### Sample Data"
   ]
  },
  {
   "cell_type": "code",
   "execution_count": 8,
   "id": "38f00051",
   "metadata": {},
   "outputs": [],
   "source": [
    "SAMPLE_SIZE = 600\n",
    "RANDOM_STATE = 1"
   ]
  },
  {
   "cell_type": "code",
   "execution_count": 9,
   "id": "4b82ea50",
   "metadata": {},
   "outputs": [],
   "source": [
    "sampled_data = pd.DataFrame(columns=['Text', 'Label', 'Language'])\n",
    "\n",
    "for language in c:\n",
    "    for label in [0,1]:\n",
    "        data = all_data\n",
    "        data = data[data['Language'] == language]\n",
    "        data = data[data['Label'] == label]\n",
    "        \n",
    "        data = data.sample(n=SAMPLE_SIZE, random_state=RANDOM_STATE).reset_index(drop=True)\n",
    "        sampled_data = pd.concat([data, sampled_data]).reset_index(drop=True)\n",
    "        \n",
    "assert len(sampled_data[sampled_data['Label'] == 0]) / len(sampled_data) == 0.5"
   ]
  },
  {
   "cell_type": "code",
   "execution_count": 10,
   "id": "18135128",
   "metadata": {},
   "outputs": [
    {
     "data": {
      "text/html": [
       "<div>\n",
       "<style scoped>\n",
       "    .dataframe tbody tr th:only-of-type {\n",
       "        vertical-align: middle;\n",
       "    }\n",
       "\n",
       "    .dataframe tbody tr th {\n",
       "        vertical-align: top;\n",
       "    }\n",
       "\n",
       "    .dataframe thead th {\n",
       "        text-align: right;\n",
       "    }\n",
       "</style>\n",
       "<table border=\"1\" class=\"dataframe\">\n",
       "  <thead>\n",
       "    <tr style=\"text-align: right;\">\n",
       "      <th></th>\n",
       "      <th>Text</th>\n",
       "      <th>Label</th>\n",
       "      <th>Language</th>\n",
       "    </tr>\n",
       "  </thead>\n",
       "  <tbody>\n",
       "    <tr>\n",
       "      <th>0</th>\n",
       "      <td>Han sido los moros, que hijos de puta los Don...</td>\n",
       "      <td>1</td>\n",
       "      <td>Spanish</td>\n",
       "    </tr>\n",
       "    <tr>\n",
       "      <th>1</th>\n",
       "      <td>¿Lamban haber si tienes vergüenza y demuestras...</td>\n",
       "      <td>1</td>\n",
       "      <td>Spanish</td>\n",
       "    </tr>\n",
       "    <tr>\n",
       "      <th>2</th>\n",
       "      <td>¿Qué hacen tantos subsaharianos de pie en la P...</td>\n",
       "      <td>1</td>\n",
       "      <td>Spanish</td>\n",
       "    </tr>\n",
       "    <tr>\n",
       "      <th>3</th>\n",
       "      <td>Tú eres perra</td>\n",
       "      <td>1</td>\n",
       "      <td>Spanish</td>\n",
       "    </tr>\n",
       "    <tr>\n",
       "      <th>4</th>\n",
       "      <td>Qué peste a culé esta pillando la afición madr...</td>\n",
       "      <td>1</td>\n",
       "      <td>Spanish</td>\n",
       "    </tr>\n",
       "    <tr>\n",
       "      <th>...</th>\n",
       "      <td>...</td>\n",
       "      <td>...</td>\n",
       "      <td>...</td>\n",
       "    </tr>\n",
       "    <tr>\n",
       "      <th>8395</th>\n",
       "      <td>Ø§Ù„Ø±Ù‘Ø¦ÙŠØ³ Ø§Ù„ØªÙ‘ÙˆÙ†Ø³ÙŠÙ‘ ÙŠØ®Ø³Ø± Ø¯Ø...</td>\n",
       "      <td>0</td>\n",
       "      <td>Arabic</td>\n",
       "    </tr>\n",
       "    <tr>\n",
       "      <th>8396</th>\n",
       "      <td>Ø£Ø®ÙŠ Ø§Ù„Ù…Ø±ÙŠØ¶ Ù‚Ù… Ø¨Ø²ÙŠØ§Ø±Ø© Ù…Ø³ØªØ´...</td>\n",
       "      <td>0</td>\n",
       "      <td>Arabic</td>\n",
       "    </tr>\n",
       "    <tr>\n",
       "      <th>8397</th>\n",
       "      <td>Ù„Ø­ÙƒÙŠ Ù…ÙˆØ¬Ù‡ Ù„Ø¬Ø­Ø§Ø´ Ø§Ø±Ø¨Ø¹Ø·Ø¹Ø´ Ø§...</td>\n",
       "      <td>0</td>\n",
       "      <td>Arabic</td>\n",
       "    </tr>\n",
       "    <tr>\n",
       "      <th>8398</th>\n",
       "      <td>وفي ختام الندوة قدم الحقوقي والمدير التنفيذي ل...</td>\n",
       "      <td>0</td>\n",
       "      <td>Arabic</td>\n",
       "    </tr>\n",
       "    <tr>\n",
       "      <th>8399</th>\n",
       "      <td>Ù…Ø·Ù„ÙˆØ¨ Ù†ÙÙŠ Ø¬Ø¨Ø±Ø§Ù† Ø¬Ø±Ø¬ÙŠ Ø¨Ø§Ø³ÙŠ...</td>\n",
       "      <td>0</td>\n",
       "      <td>Arabic</td>\n",
       "    </tr>\n",
       "  </tbody>\n",
       "</table>\n",
       "<p>8400 rows × 3 columns</p>\n",
       "</div>"
      ],
      "text/plain": [
       "                                                   Text Label Language\n",
       "0      Han sido los moros, que hijos de puta los Don...     1  Spanish\n",
       "1     ¿Lamban haber si tienes vergüenza y demuestras...     1  Spanish\n",
       "2     ¿Qué hacen tantos subsaharianos de pie en la P...     1  Spanish\n",
       "3                                         Tú eres perra     1  Spanish\n",
       "4     Qué peste a culé esta pillando la afición madr...     1  Spanish\n",
       "...                                                 ...   ...      ...\n",
       "8395  Ø§Ù„Ø±Ù‘Ø¦ÙŠØ³ Ø§Ù„ØªÙ‘ÙˆÙ†Ø³ÙŠÙ‘ ÙŠØ®Ø³Ø± Ø¯Ø...     0   Arabic\n",
       "8396  Ø£Ø®ÙŠ Ø§Ù„Ù…Ø±ÙŠØ¶ Ù‚Ù… Ø¨Ø²ÙŠØ§Ø±Ø© Ù…Ø³ØªØ´...     0   Arabic\n",
       "8397  Ù„Ø­ÙƒÙŠ Ù…ÙˆØ¬Ù‡ Ù„Ø¬Ø­Ø§Ø´ Ø§Ø±Ø¨Ø¹Ø·Ø¹Ø´ Ø§...     0   Arabic\n",
       "8398  وفي ختام الندوة قدم الحقوقي والمدير التنفيذي ل...     0   Arabic\n",
       "8399  Ù…Ø·Ù„ÙˆØ¨ Ù†ÙÙŠ Ø¬Ø¨Ø±Ø§Ù† Ø¬Ø±Ø¬ÙŠ Ø¨Ø§Ø³ÙŠ...     0   Arabic\n",
       "\n",
       "[8400 rows x 3 columns]"
      ]
     },
     "execution_count": 10,
     "metadata": {},
     "output_type": "execute_result"
    }
   ],
   "source": [
    "sampled_data"
   ]
  },
  {
   "cell_type": "code",
   "execution_count": 11,
   "id": "10e2918c",
   "metadata": {},
   "outputs": [],
   "source": [
    "sampled_data.to_csv('sampled_clean_data.csv', index=False)"
   ]
  },
  {
   "cell_type": "markdown",
   "id": "244c3d34",
   "metadata": {},
   "source": [
    "### Get English Test Data"
   ]
  },
  {
   "cell_type": "code",
   "execution_count": 13,
   "id": "8c734b29",
   "metadata": {},
   "outputs": [],
   "source": [
    "SAMPLE_SIZE = 600\n",
    "RANDOM_STATE = 2"
   ]
  },
  {
   "cell_type": "code",
   "execution_count": 14,
   "id": "bce10e82",
   "metadata": {},
   "outputs": [],
   "source": [
    "sampled_data = pd.DataFrame(columns=['Text', 'Label', 'Language'])\n",
    "\n",
    "for language in c:\n",
    "    for label in [0,1]:\n",
    "        data = all_data\n",
    "        data = data[data['Language'] == language]\n",
    "        data = data[data['Label'] == label]\n",
    "        \n",
    "        data = data.sample(n=SAMPLE_SIZE, random_state=RANDOM_STATE).reset_index(drop=True)\n",
    "        sampled_data = pd.concat([data, sampled_data]).reset_index(drop=True)\n",
    "        \n",
    "assert len(sampled_data[sampled_data['Label'] == 0]) / len(sampled_data) == 0.5"
   ]
  },
  {
   "cell_type": "code",
   "execution_count": 18,
   "id": "bcb34464",
   "metadata": {},
   "outputs": [],
   "source": [
    "sampled_data = sampled_data[sampled_data['Language'] == \"English\"].reset_index(drop=True)"
   ]
  },
  {
   "cell_type": "code",
   "execution_count": 19,
   "id": "933edde6",
   "metadata": {},
   "outputs": [
    {
     "data": {
      "text/html": [
       "<div>\n",
       "<style scoped>\n",
       "    .dataframe tbody tr th:only-of-type {\n",
       "        vertical-align: middle;\n",
       "    }\n",
       "\n",
       "    .dataframe tbody tr th {\n",
       "        vertical-align: top;\n",
       "    }\n",
       "\n",
       "    .dataframe thead th {\n",
       "        text-align: right;\n",
       "    }\n",
       "</style>\n",
       "<table border=\"1\" class=\"dataframe\">\n",
       "  <thead>\n",
       "    <tr style=\"text-align: right;\">\n",
       "      <th></th>\n",
       "      <th>Text</th>\n",
       "      <th>Label</th>\n",
       "      <th>Language</th>\n",
       "    </tr>\n",
       "  </thead>\n",
       "  <tbody>\n",
       "    <tr>\n",
       "      <th>0</th>\n",
       "      <td>lmaoo one nigga had that 2nd pic as \"Looove t...</td>\n",
       "      <td>1</td>\n",
       "      <td>English</td>\n",
       "    </tr>\n",
       "    <tr>\n",
       "      <th>1</th>\n",
       "      <td>fuck outta here faggot that wouldn't even b...</td>\n",
       "      <td>1</td>\n",
       "      <td>English</td>\n",
       "    </tr>\n",
       "    <tr>\n",
       "      <th>2</th>\n",
       "      <td>Okay don't reply then I didn't want you to any...</td>\n",
       "      <td>1</td>\n",
       "      <td>English</td>\n",
       "    </tr>\n",
       "    <tr>\n",
       "      <th>3</th>\n",
       "      <td>\"Don't make me make you fall in live with a ni...</td>\n",
       "      <td>1</td>\n",
       "      <td>English</td>\n",
       "    </tr>\n",
       "    <tr>\n",
       "      <th>4</th>\n",
       "      <td>My Ralph Lauren jacket comes tomorrow. Im givi...</td>\n",
       "      <td>1</td>\n",
       "      <td>English</td>\n",
       "    </tr>\n",
       "    <tr>\n",
       "      <th>...</th>\n",
       "      <td>...</td>\n",
       "      <td>...</td>\n",
       "      <td>...</td>\n",
       "    </tr>\n",
       "    <tr>\n",
       "      <th>1195</th>\n",
       "      <td>Afghan refugee Waheed Adrian who moved to  to ...</td>\n",
       "      <td>0</td>\n",
       "      <td>English</td>\n",
       "    </tr>\n",
       "    <tr>\n",
       "      <th>1196</th>\n",
       "      <td>Bitch please. You're nothing more than Putin...</td>\n",
       "      <td>0</td>\n",
       "      <td>English</td>\n",
       "    </tr>\n",
       "    <tr>\n",
       "      <th>1197</th>\n",
       "      <td>\"There is a special time and place for decaf ...</td>\n",
       "      <td>0</td>\n",
       "      <td>English</td>\n",
       "    </tr>\n",
       "    <tr>\n",
       "      <th>1198</th>\n",
       "      <td>Muslim refugee: In Greece they don't have enou...</td>\n",
       "      <td>0</td>\n",
       "      <td>English</td>\n",
       "    </tr>\n",
       "    <tr>\n",
       "      <th>1199</th>\n",
       "      <td>Stop talking about the flag u dont give a shi...</td>\n",
       "      <td>0</td>\n",
       "      <td>English</td>\n",
       "    </tr>\n",
       "  </tbody>\n",
       "</table>\n",
       "<p>1200 rows × 3 columns</p>\n",
       "</div>"
      ],
      "text/plain": [
       "                                                   Text Label Language\n",
       "0      lmaoo one nigga had that 2nd pic as \"Looove t...     1  English\n",
       "1        fuck outta here faggot that wouldn't even b...     1  English\n",
       "2     Okay don't reply then I didn't want you to any...     1  English\n",
       "3     \"Don't make me make you fall in live with a ni...     1  English\n",
       "4     My Ralph Lauren jacket comes tomorrow. Im givi...     1  English\n",
       "...                                                 ...   ...      ...\n",
       "1195  Afghan refugee Waheed Adrian who moved to  to ...     0  English\n",
       "1196    Bitch please. You're nothing more than Putin...     0  English\n",
       "1197   \"There is a special time and place for decaf ...     0  English\n",
       "1198  Muslim refugee: In Greece they don't have enou...     0  English\n",
       "1199   Stop talking about the flag u dont give a shi...     0  English\n",
       "\n",
       "[1200 rows x 3 columns]"
      ]
     },
     "execution_count": 19,
     "metadata": {},
     "output_type": "execute_result"
    }
   ],
   "source": [
    "sampled_data"
   ]
  },
  {
   "cell_type": "code",
   "execution_count": 20,
   "id": "05975c4b",
   "metadata": {},
   "outputs": [],
   "source": [
    "sampled_data.to_csv(\"sampled_clean_data_eng_test.csv\")"
   ]
  },
  {
   "cell_type": "code",
   "execution_count": null,
   "id": "547e4b57",
   "metadata": {},
   "outputs": [],
   "source": []
  }
 ],
 "metadata": {
  "kernelspec": {
   "display_name": "Python 3 (ipykernel)",
   "language": "python",
   "name": "python3"
  },
  "language_info": {
   "codemirror_mode": {
    "name": "ipython",
    "version": 3
   },
   "file_extension": ".py",
   "mimetype": "text/x-python",
   "name": "python",
   "nbconvert_exporter": "python",
   "pygments_lexer": "ipython3",
   "version": "3.10.5"
  }
 },
 "nbformat": 4,
 "nbformat_minor": 5
}
