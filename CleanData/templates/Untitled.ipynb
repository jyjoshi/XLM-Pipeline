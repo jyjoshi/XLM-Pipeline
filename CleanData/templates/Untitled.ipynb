{
 "cells": [
  {
   "cell_type": "code",
   "execution_count": 11,
   "metadata": {},
   "outputs": [],
   "source": [
    "import pandas as pd\n",
    "from collections import defaultdict"
   ]
  },
  {
   "cell_type": "code",
   "execution_count": 2,
   "metadata": {},
   "outputs": [],
   "source": [
    "en_df = pd.read_csv('en_templates.csv')\n",
    "es_df = pd.read_csv('es_templates.csv')\n",
    "hi_df = pd.read_csv('hi_templates.csv')"
   ]
  },
  {
   "cell_type": "code",
   "execution_count": 3,
   "metadata": {},
   "outputs": [
    {
     "data": {
      "text/html": [
       "<div>\n",
       "<style scoped>\n",
       "    .dataframe tbody tr th:only-of-type {\n",
       "        vertical-align: middle;\n",
       "    }\n",
       "\n",
       "    .dataframe tbody tr th {\n",
       "        vertical-align: top;\n",
       "    }\n",
       "\n",
       "    .dataframe thead th {\n",
       "        text-align: right;\n",
       "    }\n",
       "</style>\n",
       "<table border=\"1\" class=\"dataframe\">\n",
       "  <thead>\n",
       "    <tr style=\"text-align: right;\">\n",
       "      <th></th>\n",
       "      <th>template</th>\n",
       "      <th>toxicity</th>\n",
       "      <th>phrase</th>\n",
       "      <th>identities</th>\n",
       "      <th>identity</th>\n",
       "    </tr>\n",
       "  </thead>\n",
       "  <tbody>\n",
       "    <tr>\n",
       "      <th>0</th>\n",
       "      <td>verify_translation</td>\n",
       "      <td>nontoxic</td>\n",
       "      <td>lesbiana</td>\n",
       "      <td>lesbiana</td>\n",
       "      <td>lesbian</td>\n",
       "    </tr>\n",
       "    <tr>\n",
       "      <th>1</th>\n",
       "      <td>verify_translation</td>\n",
       "      <td>nontoxic</td>\n",
       "      <td>gay</td>\n",
       "      <td>gay</td>\n",
       "      <td>gay</td>\n",
       "    </tr>\n",
       "    <tr>\n",
       "      <th>2</th>\n",
       "      <td>verify_translation</td>\n",
       "      <td>nontoxic</td>\n",
       "      <td>bisexuala</td>\n",
       "      <td>bisexuala</td>\n",
       "      <td>bisexual</td>\n",
       "    </tr>\n",
       "    <tr>\n",
       "      <th>3</th>\n",
       "      <td>verify_translation</td>\n",
       "      <td>nontoxic</td>\n",
       "      <td>transgenero</td>\n",
       "      <td>transgenero</td>\n",
       "      <td>transgender</td>\n",
       "    </tr>\n",
       "    <tr>\n",
       "      <th>4</th>\n",
       "      <td>verify_translation</td>\n",
       "      <td>nontoxic</td>\n",
       "      <td>queer</td>\n",
       "      <td>queer</td>\n",
       "      <td>queer</td>\n",
       "    </tr>\n",
       "    <tr>\n",
       "      <th>...</th>\n",
       "      <td>...</td>\n",
       "      <td>...</td>\n",
       "      <td>...</td>\n",
       "      <td>...</td>\n",
       "      <td>...</td>\n",
       "    </tr>\n",
       "    <tr>\n",
       "      <th>3632</th>\n",
       "      <td>you_occupation</td>\n",
       "      <td>toxic</td>\n",
       "      <td>Eres un feo reportero</td>\n",
       "      <td>reportero</td>\n",
       "      <td>reporter</td>\n",
       "    </tr>\n",
       "    <tr>\n",
       "      <th>3633</th>\n",
       "      <td>you_occupation</td>\n",
       "      <td>toxic</td>\n",
       "      <td>Eres un feo vendedor</td>\n",
       "      <td>vendedor</td>\n",
       "      <td>sales person</td>\n",
       "    </tr>\n",
       "    <tr>\n",
       "      <th>3634</th>\n",
       "      <td>you_occupation</td>\n",
       "      <td>toxic</td>\n",
       "      <td>Eres un feo scientifico</td>\n",
       "      <td>scientifico</td>\n",
       "      <td>scientist</td>\n",
       "    </tr>\n",
       "    <tr>\n",
       "      <th>3635</th>\n",
       "      <td>you_occupation</td>\n",
       "      <td>toxic</td>\n",
       "      <td>Eres un feo secretario</td>\n",
       "      <td>secretario</td>\n",
       "      <td>secretary</td>\n",
       "    </tr>\n",
       "    <tr>\n",
       "      <th>3636</th>\n",
       "      <td>you_occupation</td>\n",
       "      <td>toxic</td>\n",
       "      <td>Eres un feo escritor</td>\n",
       "      <td>escritor</td>\n",
       "      <td>writer</td>\n",
       "    </tr>\n",
       "  </tbody>\n",
       "</table>\n",
       "<p>3637 rows × 5 columns</p>\n",
       "</div>"
      ],
      "text/plain": [
       "                template  toxicity                   phrase   identities  \\\n",
       "0     verify_translation  nontoxic                 lesbiana     lesbiana   \n",
       "1     verify_translation  nontoxic                      gay          gay   \n",
       "2     verify_translation  nontoxic                bisexuala    bisexuala   \n",
       "3     verify_translation  nontoxic              transgenero  transgenero   \n",
       "4     verify_translation  nontoxic                    queer        queer   \n",
       "...                  ...       ...                      ...          ...   \n",
       "3632      you_occupation     toxic    Eres un feo reportero    reportero   \n",
       "3633      you_occupation     toxic     Eres un feo vendedor     vendedor   \n",
       "3634      you_occupation     toxic  Eres un feo scientifico  scientifico   \n",
       "3635      you_occupation     toxic   Eres un feo secretario   secretario   \n",
       "3636      you_occupation     toxic     Eres un feo escritor     escritor   \n",
       "\n",
       "          identity  \n",
       "0          lesbian  \n",
       "1              gay  \n",
       "2         bisexual  \n",
       "3      transgender  \n",
       "4            queer  \n",
       "...            ...  \n",
       "3632      reporter  \n",
       "3633  sales person  \n",
       "3634     scientist  \n",
       "3635     secretary  \n",
       "3636        writer  \n",
       "\n",
       "[3637 rows x 5 columns]"
      ]
     },
     "execution_count": 3,
     "metadata": {},
     "output_type": "execute_result"
    }
   ],
   "source": [
    "es_df"
   ]
  },
  {
   "cell_type": "code",
   "execution_count": 4,
   "metadata": {},
   "outputs": [],
   "source": [
    "for key in ['template', 'toxicity']:\n",
    "    for en, es, hi in zip(en_df[key], es_df[key], hi_df[key]):\n",
    "        assert en == es == hi"
   ]
  },
  {
   "cell_type": "code",
   "execution_count": 5,
   "metadata": {},
   "outputs": [],
   "source": [
    "en_df['identity'] = en_df['identities']\n",
    "en_df.to_csv('en_templates.csv', index=False)"
   ]
  },
  {
   "cell_type": "markdown",
   "metadata": {},
   "source": [
    "### Generate word map"
   ]
  },
  {
   "cell_type": "code",
   "execution_count": 6,
   "metadata": {},
   "outputs": [],
   "source": [
    "# Generate map\n",
    "all_words = pd.read_csv('all_words.csv')"
   ]
  },
  {
   "cell_type": "code",
   "execution_count": 17,
   "metadata": {},
   "outputs": [],
   "source": [
    "es_map = defaultdict(list)\n",
    "hi_map = defaultdict(list)\n",
    "for _, row in all_words.iterrows():\n",
    "    es_map[row['es']].append(row['en'])\n",
    "    hi_map[row['hi']].append(row['en'])"
   ]
  },
  {
   "cell_type": "code",
   "execution_count": 18,
   "metadata": {},
   "outputs": [],
   "source": [
    "from itertools import cycle"
   ]
  },
  {
   "cell_type": "code",
   "execution_count": 19,
   "metadata": {},
   "outputs": [],
   "source": [
    "for m in [es_map, hi_map]:\n",
    "    for key in m:\n",
    "        m[key] = cycle(m[key])"
   ]
  },
  {
   "cell_type": "code",
   "execution_count": 15,
   "metadata": {},
   "outputs": [
    {
     "data": {
      "text/plain": [
       "1"
      ]
     },
     "execution_count": 15,
     "metadata": {},
     "output_type": "execute_result"
    }
   ],
   "source": [
    "next(x)"
   ]
  },
  {
   "cell_type": "code",
   "execution_count": 22,
   "metadata": {},
   "outputs": [],
   "source": [
    "for df, mp in zip([es_df, hi_df], [es_map, hi_map]):\n",
    "    identity = []\n",
    "    for _, row in df.iterrows():\n",
    "        identity.append(next(mp[row['identities']]))\n",
    "    df['identity'] = identity\n"
   ]
  },
  {
   "cell_type": "code",
   "execution_count": 24,
   "metadata": {},
   "outputs": [
    {
     "data": {
      "text/html": [
       "<div>\n",
       "<style scoped>\n",
       "    .dataframe tbody tr th:only-of-type {\n",
       "        vertical-align: middle;\n",
       "    }\n",
       "\n",
       "    .dataframe tbody tr th {\n",
       "        vertical-align: top;\n",
       "    }\n",
       "\n",
       "    .dataframe thead th {\n",
       "        text-align: right;\n",
       "    }\n",
       "</style>\n",
       "<table border=\"1\" class=\"dataframe\">\n",
       "  <thead>\n",
       "    <tr style=\"text-align: right;\">\n",
       "      <th></th>\n",
       "      <th>template</th>\n",
       "      <th>toxicity</th>\n",
       "      <th>phrase</th>\n",
       "      <th>identities</th>\n",
       "      <th>identity</th>\n",
       "    </tr>\n",
       "  </thead>\n",
       "  <tbody>\n",
       "    <tr>\n",
       "      <th>0</th>\n",
       "      <td>verify_translation</td>\n",
       "      <td>nontoxic</td>\n",
       "      <td>समलैंगिक</td>\n",
       "      <td>समलैंगिक</td>\n",
       "      <td>lesbian</td>\n",
       "    </tr>\n",
       "    <tr>\n",
       "      <th>1</th>\n",
       "      <td>verify_translation</td>\n",
       "      <td>nontoxic</td>\n",
       "      <td>समलैंगिक</td>\n",
       "      <td>समलैंगिक</td>\n",
       "      <td>gay</td>\n",
       "    </tr>\n",
       "    <tr>\n",
       "      <th>2</th>\n",
       "      <td>verify_translation</td>\n",
       "      <td>nontoxic</td>\n",
       "      <td>उभयलिंगी</td>\n",
       "      <td>उभयलिंगी</td>\n",
       "      <td>bisexual</td>\n",
       "    </tr>\n",
       "    <tr>\n",
       "      <th>3</th>\n",
       "      <td>verify_translation</td>\n",
       "      <td>nontoxic</td>\n",
       "      <td>ट्रांसजेंडर</td>\n",
       "      <td>ट्रांसजेंडर</td>\n",
       "      <td>transgender</td>\n",
       "    </tr>\n",
       "    <tr>\n",
       "      <th>4</th>\n",
       "      <td>verify_translation</td>\n",
       "      <td>nontoxic</td>\n",
       "      <td>समलैंगिक</td>\n",
       "      <td>समलैंगिक</td>\n",
       "      <td>queer</td>\n",
       "    </tr>\n",
       "    <tr>\n",
       "      <th>...</th>\n",
       "      <td>...</td>\n",
       "      <td>...</td>\n",
       "      <td>...</td>\n",
       "      <td>...</td>\n",
       "      <td>...</td>\n",
       "    </tr>\n",
       "    <tr>\n",
       "      <th>3632</th>\n",
       "      <td>you_occupation</td>\n",
       "      <td>toxic</td>\n",
       "      <td>आप एक कुरूप रिपोर्टर हैं</td>\n",
       "      <td>रिपोर्टर</td>\n",
       "      <td>reporter</td>\n",
       "    </tr>\n",
       "    <tr>\n",
       "      <th>3633</th>\n",
       "      <td>you_occupation</td>\n",
       "      <td>toxic</td>\n",
       "      <td>आप एक कुरूप सेल्सपर्सन हैं</td>\n",
       "      <td>सेल्सपर्सन</td>\n",
       "      <td>sales person</td>\n",
       "    </tr>\n",
       "    <tr>\n",
       "      <th>3634</th>\n",
       "      <td>you_occupation</td>\n",
       "      <td>toxic</td>\n",
       "      <td>आप एक कुरूप वैज्ञानिक हैं</td>\n",
       "      <td>वैज्ञानिक</td>\n",
       "      <td>scientist</td>\n",
       "    </tr>\n",
       "    <tr>\n",
       "      <th>3635</th>\n",
       "      <td>you_occupation</td>\n",
       "      <td>toxic</td>\n",
       "      <td>आप एक कुरूप सचिव हैं</td>\n",
       "      <td>सचिव</td>\n",
       "      <td>secretary</td>\n",
       "    </tr>\n",
       "    <tr>\n",
       "      <th>3636</th>\n",
       "      <td>you_occupation</td>\n",
       "      <td>toxic</td>\n",
       "      <td>आप एक कुरूप लेखक हैं</td>\n",
       "      <td>लेखक</td>\n",
       "      <td>writer</td>\n",
       "    </tr>\n",
       "  </tbody>\n",
       "</table>\n",
       "<p>3637 rows × 5 columns</p>\n",
       "</div>"
      ],
      "text/plain": [
       "                template  toxicity                      phrase   identities  \\\n",
       "0     verify_translation  nontoxic                    समलैंगिक     समलैंगिक   \n",
       "1     verify_translation  nontoxic                    समलैंगिक     समलैंगिक   \n",
       "2     verify_translation  nontoxic                    उभयलिंगी     उभयलिंगी   \n",
       "3     verify_translation  nontoxic                 ट्रांसजेंडर  ट्रांसजेंडर   \n",
       "4     verify_translation  nontoxic                    समलैंगिक     समलैंगिक   \n",
       "...                  ...       ...                         ...          ...   \n",
       "3632      you_occupation     toxic    आप एक कुरूप रिपोर्टर हैं     रिपोर्टर   \n",
       "3633      you_occupation     toxic  आप एक कुरूप सेल्सपर्सन हैं   सेल्सपर्सन   \n",
       "3634      you_occupation     toxic   आप एक कुरूप वैज्ञानिक हैं    वैज्ञानिक   \n",
       "3635      you_occupation     toxic        आप एक कुरूप सचिव हैं         सचिव   \n",
       "3636      you_occupation     toxic        आप एक कुरूप लेखक हैं         लेखक   \n",
       "\n",
       "          identity  \n",
       "0          lesbian  \n",
       "1              gay  \n",
       "2         bisexual  \n",
       "3      transgender  \n",
       "4            queer  \n",
       "...            ...  \n",
       "3632      reporter  \n",
       "3633  sales person  \n",
       "3634     scientist  \n",
       "3635     secretary  \n",
       "3636        writer  \n",
       "\n",
       "[3637 rows x 5 columns]"
      ]
     },
     "execution_count": 24,
     "metadata": {},
     "output_type": "execute_result"
    }
   ],
   "source": [
    "hi_df"
   ]
  },
  {
   "cell_type": "code",
   "execution_count": 25,
   "metadata": {},
   "outputs": [],
   "source": [
    "es_df.to_csv('es_templates.csv', index=False)\n",
    "hi_df.to_csv('hi_templates.csv', index=False)"
   ]
  },
  {
   "cell_type": "code",
   "execution_count": null,
   "metadata": {},
   "outputs": [],
   "source": []
  }
 ],
 "metadata": {
  "kernelspec": {
   "display_name": "Python 3",
   "language": "python",
   "name": "python3"
  },
  "language_info": {
   "codemirror_mode": {
    "name": "ipython",
    "version": 3
   },
   "file_extension": ".py",
   "mimetype": "text/x-python",
   "name": "python",
   "nbconvert_exporter": "python",
   "pygments_lexer": "ipython3",
   "version": "3.8.3"
  }
 },
 "nbformat": 4,
 "nbformat_minor": 4
}
